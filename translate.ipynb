{
  "nbformat": 4,
  "nbformat_minor": 0,
  "metadata": {
    "colab": {
      "provenance": []
    },
    "kernelspec": {
      "name": "python3",
      "display_name": "Python 3"
    },
    "accelerator": "GPU"
  },
  "cells": [
    {
      "cell_type": "code",
      "metadata": {
        "id": "8Wh-m0eoBgju",
        "outputId": "4948ac59-24bc-4e79-8daa-c903f6205c9a",
        "colab": {
          "base_uri": "https://localhost:8080/"
        }
      },
      "source": [
        "import tensorflow as tf\n",
        "import numpy as np\n",
        "import matplotlib.pyplot as plt\n",
        "import random\n",
        "import os\n",
        "import io\n",
        "import string\n",
        "import re\n",
        "from sklearn.model_selection import train_test_split\n",
        "\n",
        "from google.colab import drive\n",
        "drive.mount('/content/drive')\n"
      ],
      "execution_count": null,
      "outputs": [
        {
          "output_type": "stream",
          "name": "stdout",
          "text": [
            "Drive already mounted at /content/drive; to attempt to forcibly remount, call drive.mount(\"/content/drive\", force_remount=True).\n"
          ]
        }
      ]
    },
    {
      "cell_type": "code",
      "source": [],
      "metadata": {
        "id": "341e0lOryr4r"
      },
      "execution_count": null,
      "outputs": []
    },
    {
      "cell_type": "code",
      "metadata": {
        "id": "78ngDseDBtL1"
      },
      "source": [
        "os.chdir(\"/content/drive/MyDrive/Colab/Machine\")"
      ],
      "execution_count": null,
      "outputs": []
    },
    {
      "cell_type": "code",
      "metadata": {
        "id": "IEgYDNd9Bgjy",
        "colab": {
          "base_uri": "https://localhost:8080/"
        },
        "outputId": "83638ebd-8645-48f0-9312-a04e9dd8b442"
      },
      "source": [
        "tf.executing_eagerly()"
      ],
      "execution_count": null,
      "outputs": [
        {
          "output_type": "execute_result",
          "data": {
            "text/plain": [
              "True"
            ]
          },
          "metadata": {},
          "execution_count": 4
        }
      ]
    },
    {
      "cell_type": "code",
      "metadata": {
        "id": "Ctwg1Cz0Bgj0"
      },
      "source": [
        "en_filename = \"./dataset/train.en.txt\"\n",
        "vi_filename = \"./dataset/train.vi.txt\"\n",
        "\n",
        "raw_en_lines = open(en_filename, encoding='utf-8').read().strip().split(\"\\n\")\n",
        "raw_vi_lines = open(vi_filename, encoding='utf-8').read().strip().split(\"\\n\")"
      ],
      "execution_count": null,
      "outputs": []
    },
    {
      "cell_type": "code",
      "metadata": {
        "id": "g8YFiaD0Bgj2"
      },
      "source": [
        "exclude = list(string.punctuation) + list(string.digits)\n",
        "\n",
        "def preprocess(sentence):\n",
        "    sent = sentence.lower()\n",
        "    sent = sent.strip()\n",
        "    sent = re.sub(\"'\", \" \", sent)\n",
        "    sent = re.sub(\"\\s+\", \" \", sent)\n",
        "    sent = ''.join([char for char in sent if char not in exclude])\n",
        "    sent = \"<start> \" + sent + \" <end>\"\n",
        "    return sent"
      ],
      "execution_count": null,
      "outputs": []
    },
    {
      "cell_type": "code",
      "metadata": {
        "id": "ns3dSIsdBgj4",
        "colab": {
          "base_uri": "https://localhost:8080/"
        },
        "outputId": "a0afc787-afec-439f-b6ff-c93991e17c49"
      },
      "source": [
        "en_lines = []\n",
        "vi_lines = []\n",
        "min_len, max_len = 10, 14\n",
        "\n",
        "for eline, vline in zip(raw_en_lines, raw_vi_lines):\n",
        "    eline = preprocess(eline)\n",
        "    vline = preprocess(vline)\n",
        "    if min_len < len(eline.split(\" \")) < max_len and min_len < len(vline.split(\" \")) < max_len:\n",
        "        en_lines.append(eline)\n",
        "        vi_lines.append(vline)\n",
        "\n",
        "print(len(en_lines))"
      ],
      "execution_count": null,
      "outputs": [
        {
          "output_type": "stream",
          "name": "stdout",
          "text": [
            "6016\n"
          ]
        }
      ]
    },
    {
      "cell_type": "code",
      "metadata": {
        "id": "8__gLcNKBgj6"
      },
      "source": [],
      "execution_count": null,
      "outputs": []
    },
    {
      "cell_type": "code",
      "metadata": {
        "id": "M155yoJ6Bgj-"
      },
      "source": [
        "class Language():\n",
        "    def __init__(self, lines):\n",
        "        self.lines = lines\n",
        "        self.word2id = {}\n",
        "        self.id2word = {}\n",
        "        self.vocab = set()\n",
        "        self.max_len = 0\n",
        "        self.min_len = 0\n",
        "        self.vocab_size = 0\n",
        "        self.init_language_params()\n",
        "\n",
        "    def init_language_params(self):\n",
        "        for line in self.lines:\n",
        "            self.vocab.update(line.split(\" \"))\n",
        "        self.word2id['<pad>'] = 0\n",
        "        for id, word in enumerate(self.vocab):\n",
        "            self.word2id[word] = id + 1\n",
        "        for word, id in self.word2id.items():\n",
        "            self.id2word[id] = word\n",
        "        self.max_len = max([len(line.split(\" \")) for line in self.lines])\n",
        "        self.min_len = min([len(line.split(\" \")) for line in self.lines])\n",
        "        self.vocab_size = len(self.vocab) + 1\n",
        "\n",
        "    def sentence_to_vector(self, sent):\n",
        "        return np.array([self.word2id[word] for word in sent.split(\" \")])\n",
        "\n",
        "    def vector_to_sentence(self, vector):\n",
        "        return \" \".join([self.id2word[id] for id in vector])"
      ],
      "execution_count": null,
      "outputs": []
    },
    {
      "cell_type": "code",
      "metadata": {
        "id": "lytHfioABgkA",
        "colab": {
          "base_uri": "https://localhost:8080/"
        },
        "outputId": "55cdd5f9-67b6-4da9-9427-3a2211f61994"
      },
      "source": [
        "inp_lang = Language(en_lines)\n",
        "tar_lang = Language(vi_lines)\n",
        "print(inp_lang.max_len, inp_lang.min_len)\n",
        "print(tar_lang.max_len, tar_lang.min_len)\n",
        "\n",
        "inp_vector = [inp_lang.sentence_to_vector(line) for line in inp_lang.lines]\n",
        "tar_vector = [tar_lang.sentence_to_vector(line) for line in tar_lang.lines]\n",
        "\n",
        "inp_tensor = tf.keras.preprocessing.sequence.pad_sequences(inp_vector, inp_lang.max_len, padding='post')\n",
        "tar_tensor = tf.keras.preprocessing.sequence.pad_sequences(tar_vector, tar_lang.max_len, padding='post')\n",
        "print(inp_tensor.shape, tar_tensor.shape)"
      ],
      "execution_count": null,
      "outputs": [
        {
          "output_type": "stream",
          "name": "stdout",
          "text": [
            "13 11\n",
            "13 11\n",
            "(6016, 13) (6016, 13)\n"
          ]
        }
      ]
    },
    {
      "cell_type": "code",
      "metadata": {
        "id": "JB75H1oPF0rp"
      },
      "source": [
        "# i = 3\n",
        "# print(inp_tensor[i], type(inp_tensor[i]))\n",
        "# sent = inp_lang.vector_to_sentence(inp_tensor[i])\n",
        "# print(sent, type(sent))\n",
        "# vector = inp_lang.sentence_to_vector(inp_lang.vector_to_sentence(inp_tensor[i]))\n",
        "# print(vector, type(vector))\n",
        "# for inp, tar in zip(inp_tensor, tar_tensor):\n",
        "#     print(inp_lang.vector_to_sentence(inp))\n",
        "#     print(tar_lang.vector_to_sentence(tar))\n"
      ],
      "execution_count": null,
      "outputs": []
    },
    {
      "cell_type": "code",
      "metadata": {
        "id": "TD0jgFQDBgkD",
        "colab": {
          "base_uri": "https://localhost:8080/"
        },
        "outputId": "98832bcf-9436-41b4-c17f-dbc33d288e0a"
      },
      "source": [
        "\n",
        "x_train, x_val, y_train, y_val = train_test_split(inp_tensor, tar_tensor, test_size=0.1)\n",
        "\n",
        "BATCH_SIZE = 32\n",
        "BUFFER_SIZE = x_train.shape[0]\n",
        "N_BATCH = BUFFER_SIZE//BATCH_SIZE\n",
        "hidden_unit = 1024\n",
        "embedding_size = 256\n",
        "print(BUFFER_SIZE)\n",
        "\n",
        "\n",
        "dataset = tf.data.Dataset.from_tensor_slices((x_train, y_train))\n",
        "dataset = dataset.batch(BATCH_SIZE)"
      ],
      "execution_count": null,
      "outputs": [
        {
          "output_type": "stream",
          "name": "stdout",
          "text": [
            "5414\n"
          ]
        }
      ]
    },
    {
      "cell_type": "code",
      "metadata": {
        "id": "Zcyz7jK0BgkG",
        "colab": {
          "base_uri": "https://localhost:8080/"
        },
        "outputId": "0505fd95-251f-41a8-a936-743b2554f802"
      },
      "source": [
        "tmp_x, tmp_y = next(iter(dataset))\n",
        "print(tmp_x.shape)\n",
        "print(tmp_y.shape)"
      ],
      "execution_count": null,
      "outputs": [
        {
          "output_type": "stream",
          "name": "stdout",
          "text": [
            "(32, 13)\n",
            "(32, 13)\n"
          ]
        }
      ]
    },
    {
      "cell_type": "code",
      "metadata": {
        "id": "9SLKFFDRBgkI"
      },
      "source": [
        "class Encode(tf.keras.Model):\n",
        "    def __init__(self, embedding_size, vocab_size, hidden_units):\n",
        "        super(Encode, self).__init__()\n",
        "        self.Embedding = tf.keras.layers.Embedding(vocab_size,embedding_size)\n",
        "        self.GRU = tf.keras.layers.GRU(\n",
        "            hidden_units,\n",
        "            return_sequences=True,\n",
        "            return_state=True,\n",
        "            recurrent_initializer='glorot_uniform')\n",
        "        self.hidden_units = hidden_units\n",
        "\n",
        "    def call(self, x, hidden_state):\n",
        "        try:\n",
        "            x = self.Embedding(x)\n",
        "        except:\n",
        "            print(x, print(inp_lang.vocab_size))\n",
        "        outputs, last_state = self.GRU(x, hidden_state)\n",
        "        return outputs, last_state\n",
        "\n",
        "    def init_hidden_state(self, batch_size):\n",
        "        return tf.zeros([batch_size, self.hidden_units])"
      ],
      "execution_count": null,
      "outputs": []
    },
    {
      "cell_type": "code",
      "metadata": {
        "id": "_Bv5RJy2BgkK",
        "colab": {
          "base_uri": "https://localhost:8080/"
        },
        "outputId": "0e3abbb6-6260-4d20-84cd-877365351b5f"
      },
      "source": [
        "encoder = Encode(embedding_size, inp_lang.vocab_size, hidden_unit)\n",
        "hidden_state = encoder.init_hidden_state(BATCH_SIZE)\n",
        "tmp_outputs, last_state = encoder(tmp_x, hidden_state)\n",
        "print(tmp_outputs.shape)\n",
        "print(last_state.shape)"
      ],
      "execution_count": null,
      "outputs": [
        {
          "output_type": "stream",
          "name": "stdout",
          "text": [
            "(32, 13, 1024)\n",
            "(32, 1024)\n"
          ]
        }
      ]
    },
    {
      "cell_type": "code",
      "metadata": {
        "id": "3BhTc-AMBgkN"
      },
      "source": [
        "class Attention(tf.keras.Model):\n",
        "    def __init__(self, hidden_units):\n",
        "        super(Attention, self).__init__()\n",
        "        self.W_out_encode = tf.keras.layers.Dense(hidden_unit)\n",
        "        self.W_state = tf.keras.layers.Dense(hidden_unit)\n",
        "        self.V = tf.keras.layers.Dense(1)\n",
        "\n",
        "    def call(self, encode_outs, pre_state):\n",
        "        pre_state = tf.expand_dims(pre_state, axis=1)\n",
        "        pre_state = self.W_state(pre_state)\n",
        "        encode_outs = self.W_out_encode(encode_outs)\n",
        "        score = self.V(\n",
        "            tf.nn.tanh(\n",
        "                pre_state + encode_outs)\n",
        "        )\n",
        "        score = tf.nn.softmax(score, axis=1)\n",
        "        context_vector = score*encode_outs\n",
        "        context_vector = tf.reduce_sum(context_vector, axis=1)\n",
        "        return context_vector, score\n"
      ],
      "execution_count": null,
      "outputs": []
    },
    {
      "cell_type": "code",
      "metadata": {
        "id": "QTEV2cEdBgkP",
        "colab": {
          "base_uri": "https://localhost:8080/"
        },
        "outputId": "1665050f-3100-4837-e4e4-56d2387d591e"
      },
      "source": [
        "attention = Attention(hidden_unit)\n",
        "context_vector, attention_weight = attention(tmp_outputs, last_state)\n",
        "print(context_vector.shape, attention_weight.shape)"
      ],
      "execution_count": null,
      "outputs": [
        {
          "output_type": "stream",
          "name": "stdout",
          "text": [
            "(32, 1024) (32, 13, 1)\n"
          ]
        }
      ]
    },
    {
      "cell_type": "code",
      "metadata": {
        "id": "Y9beRmrQBgkR",
        "colab": {
          "base_uri": "https://localhost:8080/"
        },
        "outputId": "7c77605b-e5fc-487d-cd50-0c69919ec8fe"
      },
      "source": [
        "class Decode(tf.keras.Model):\n",
        "    def __init__(self, vocab_size, embedding_size, hidden_units):\n",
        "        super(Decode, self).__init__()\n",
        "        self.hidden_units = hidden_units\n",
        "        self.Embedding = tf.keras.layers.Embedding(vocab_size,embedding_size)\n",
        "        self.Attention = Attention(hidden_units)\n",
        "        self.GRU = tf.keras.layers.GRU(\n",
        "            hidden_units,\n",
        "            return_sequences=True,\n",
        "            return_state=True,\n",
        "            recurrent_initializer='glorot_uniform'\n",
        "        )\n",
        "        self.Fc = tf.keras.layers.Dense(vocab_size)\n",
        "\n",
        "    def call(self, x, encode_outs, pre_state):\n",
        "        x = tf.expand_dims(x, axis=1)\n",
        "        try:\n",
        "            x = self.Embedding(x)\n",
        "        except:\n",
        "            print(x, print(tar_lang.vocab_size))\n",
        "        context_vector, attention_weight = self.Attention(encode_outs, pre_state)\n",
        "        context_vector = tf.expand_dims(context_vector, axis=1)\n",
        "        gru_inp = tf.concat([x, context_vector], axis=-1)\n",
        "        out_gru, state = self.GRU(gru_inp)\n",
        "        out_gru = tf.reshape(out_gru, (-1, out_gru.shape[2]))\n",
        "        return self.Fc(out_gru), state\n",
        "\n",
        "\n",
        "decode = Decode(tar_lang.vocab_size, embedding_size, hidden_unit)\n",
        "print(last_state.shape, tmp_outputs.shape, tmp_y[:, 0].shape)\n",
        "decode_out, state = decode(tmp_y[:, 0], tmp_outputs, last_state)"
      ],
      "execution_count": null,
      "outputs": [
        {
          "output_type": "stream",
          "name": "stdout",
          "text": [
            "(32, 1024) (32, 13, 1024) (32,)\n"
          ]
        }
      ]
    },
    {
      "cell_type": "code",
      "metadata": {
        "id": "c17XofrSBgkT"
      },
      "source": [
        "def loss_function(real, pred):\n",
        "    mask = 1 - np.equal(real, 0)\n",
        "    loss_ = tf.nn.sparse_softmax_cross_entropy_with_logits(labels=real, logits=pred) * mask\n",
        "    return tf.reduce_mean(loss_)"
      ],
      "execution_count": null,
      "outputs": []
    },
    {
      "cell_type": "code",
      "metadata": {
        "id": "GDeHi5MuBgkZ"
      },
      "source": [
        "EPOCHS = 100\n",
        "tf.optimizers.Adam()\n",
        "optimizer = tf.keras.optimizers.Adam(learning_rate=0.001)  # Ví dụ với bộ tối ưu hóa Adam\n",
        "encoder = Encode(embedding_size, vocab_size=inp_lang.vocab_size, hidden_units=hidden_unit)\n",
        "decoder = Decode(vocab_size=tar_lang.vocab_size, embedding_size=embedding_size, hidden_units=hidden_unit)"
      ],
      "execution_count": null,
      "outputs": []
    },
    {
      "cell_type": "code",
      "metadata": {
        "id": "CD68uO8EBgkc",
        "colab": {
          "base_uri": "https://localhost:8080/"
        },
        "outputId": "9fa96e17-c9ca-41e7-9338-1854de2fc39c"
      },
      "source": [
        "for epoch in range(EPOCHS):\n",
        "    total_loss = 0\n",
        "    for batch_id, (x, y) in enumerate(dataset.take(N_BATCH)):\n",
        "        loss = 0\n",
        "        with tf.GradientTape() as tape:\n",
        "            first_state = encoder.init_hidden_state(batch_size=BATCH_SIZE)\n",
        "            encode_outs, last_state = encoder(x, first_state)\n",
        "            decode_state = last_state\n",
        "            decode_input = [tar_lang.word2id[\"<start>\"]]*BATCH_SIZE\n",
        "\n",
        "            for i in range(1, y.shape[1]):\n",
        "                decode_out, decode_state = decoder(decode_input, encode_outs, decode_state)\n",
        "                loss += loss_function(y[:, i], decode_out)\n",
        "                decode_input = y[:, i]\n",
        "\n",
        "            train_vars = encoder.trainable_variables + decoder.trainable_variables\n",
        "            grads = tape.gradient(loss, train_vars)\n",
        "            optimizer.apply_gradients(zip(grads, train_vars))\n",
        "        total_loss += loss\n",
        "    print(total_loss.numpy())"
      ],
      "execution_count": null,
      "outputs": [
        {
          "output_type": "stream",
          "name": "stderr",
          "text": [
            "WARNING:tensorflow:5 out of the last 5 calls to <function _BaseOptimizer._update_step_xla at 0x78d6f0308160> triggered tf.function retracing. Tracing is expensive and the excessive number of tracings could be due to (1) creating @tf.function repeatedly in a loop, (2) passing tensors with different shapes, (3) passing Python objects instead of tensors. For (1), please define your @tf.function outside of the loop. For (2), @tf.function has reduce_retracing=True option that can avoid unnecessary retracing. For (3), please refer to https://www.tensorflow.org/guide/function#controlling_retracing and https://www.tensorflow.org/api_docs/python/tf/function for  more details.\n",
            "WARNING:tensorflow:6 out of the last 6 calls to <function _BaseOptimizer._update_step_xla at 0x78d6f0308160> triggered tf.function retracing. Tracing is expensive and the excessive number of tracings could be due to (1) creating @tf.function repeatedly in a loop, (2) passing tensors with different shapes, (3) passing Python objects instead of tensors. For (1), please define your @tf.function outside of the loop. For (2), @tf.function has reduce_retracing=True option that can avoid unnecessary retracing. For (3), please refer to https://www.tensorflow.org/guide/function#controlling_retracing and https://www.tensorflow.org/api_docs/python/tf/function for  more details.\n"
          ]
        },
        {
          "output_type": "stream",
          "name": "stdout",
          "text": [
            "10533.837\n",
            "9080.295\n",
            "8160.0015\n",
            "7290.5103\n",
            "6492.6396\n",
            "5744.5317\n",
            "5038.5586\n",
            "4432.973\n",
            "3904.4983\n",
            "3536.483\n",
            "3056.2366\n",
            "2642.1497\n",
            "2303.6536\n",
            "1990.663\n",
            "1709.1077\n",
            "1517.2074\n",
            "1332.0265\n",
            "1130.4741\n",
            "983.11066\n",
            "865.3488\n",
            "759.58203\n",
            "671.59296\n",
            "611.7188\n",
            "526.1098\n",
            "454.29565\n",
            "412.60748\n",
            "397.86356\n",
            "347.45627\n",
            "300.07657\n",
            "285.67075\n",
            "257.8468\n",
            "261.94186\n",
            "259.76956\n",
            "248.06905\n",
            "214.77765\n",
            "183.00632\n",
            "170.69681\n",
            "152.1353\n",
            "149.76639\n",
            "150.16385\n",
            "161.999\n",
            "168.6723\n",
            "181.23741\n",
            "191.8842\n",
            "240.90698\n",
            "304.03967\n",
            "245.77896\n",
            "180.3639\n",
            "140.57338\n",
            "186.2508\n",
            "191.83247\n",
            "152.20792\n",
            "109.55531\n",
            "76.548416\n",
            "56.681953\n",
            "41.154804\n",
            "34.54708\n",
            "31.105028\n",
            "28.01056\n",
            "46.05513\n",
            "82.65133\n",
            "217.50642\n",
            "609.1941\n",
            "630.62494\n",
            "376.81854\n",
            "183.62062\n",
            "95.69762\n",
            "55.297466\n",
            "31.862219\n",
            "22.155132\n",
            "19.135073\n",
            "16.308037\n",
            "19.918348\n",
            "20.495209\n",
            "19.370514\n",
            "22.598415\n",
            "26.43393\n",
            "66.98515\n",
            "512.16614\n",
            "916.62683\n",
            "626.005\n",
            "267.7545\n",
            "162.19633\n",
            "100.66139\n",
            "51.360207\n",
            "32.538174\n",
            "25.979986\n",
            "19.285692\n",
            "14.510929\n",
            "31.801907\n",
            "44.608524\n",
            "49.777615\n",
            "57.600887\n",
            "85.88122\n",
            "249.0715\n",
            "407.22754\n",
            "367.789\n",
            "230.90723\n",
            "148.74841\n",
            "102.31729\n"
          ]
        }
      ]
    },
    {
      "cell_type": "code",
      "metadata": {
        "id": "3wvvPpoqH5fL",
        "colab": {
          "base_uri": "https://localhost:8080/"
        },
        "outputId": "d59315bd-2f42-425b-b25e-b0708bc30cb8"
      },
      "source": [
        "def translate(inputs):\n",
        "    print(inp_lang.vector_to_sentence(inputs[0].numpy()))\n",
        "    result = ''\n",
        "\n",
        "    hidden = encoder.init_hidden_state(batch_size=1)\n",
        "    enc_out, enc_hidden = encoder(inputs, hidden)\n",
        "    dec_hidden = enc_hidden\n",
        "    print(enc_out.shape, dec_hidden.shape)\n",
        "\n",
        "    dec_input = [tar_lang.word2id['<start>']]\n",
        "    for t in range(tar_lang.max_len):\n",
        "        predictions, dec_hidden = decoder(dec_input, enc_out, dec_hidden)\n",
        "        predicted_id = tf.argmax(predictions[0]).numpy()\n",
        "        result += tar_lang.id2word[predicted_id] + ' '\n",
        "        dec_input = [predicted_id]\n",
        "    return result\n",
        "\n",
        "# với mục đích demo, mình sẽ test trên chính dữ liệu train, đó là 1 mẹo kiểm tra model của bạn có hoạt động hay không, nếu không hoạt động có nghĩa rằng thuật toán của bạn chưa đúng\n",
        "for inp, tar in dataset.take(N_BATCH):\n",
        "    print(translate(inp[1:2,:]))\n",
        "    break"
      ],
      "execution_count": null,
      "outputs": [
        {
          "output_type": "stream",
          "name": "stdout",
          "text": [
            "<start> when you read  the desk lamp would get brighter  <end>\n",
            "(1, 13, 1024) (1, 1024)\n",
            "khi bạn đọc  đèn bàn sẽ toả sáng hơn  <end> ăn \n"
          ]
        }
      ]
    },
    {
      "cell_type": "code",
      "source": [
        "from google.colab import drive\n",
        "drive.mount('/content/drive')"
      ],
      "metadata": {
        "colab": {
          "base_uri": "https://localhost:8080/"
        },
        "id": "9ZVMPof4rDq6",
        "outputId": "6cfde3ca-e88a-4f43-b746-b82825f40fb6"
      },
      "execution_count": null,
      "outputs": [
        {
          "output_type": "stream",
          "name": "stdout",
          "text": [
            "Mounted at /content/drive\n"
          ]
        }
      ]
    }
  ]
}